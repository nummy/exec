{
 "cells": [
  {
   "cell_type": "code",
   "execution_count": 357,
   "metadata": {},
   "outputs": [],
   "source": [
    "from motionchart.motionchart import MotionChart\n",
    "import pandas as pd\n",
    "import numpy as np\n",
    "import matplotlib.pyplot as plt\n",
    "%matplotlib inline"
   ]
  },
  {
   "cell_type": "code",
   "execution_count": 405,
   "metadata": {},
   "outputs": [
    {
     "data": {
      "text/html": [
       "<div>\n",
       "<style>\n",
       "    .dataframe thead tr:only-child th {\n",
       "        text-align: right;\n",
       "    }\n",
       "\n",
       "    .dataframe thead th {\n",
       "        text-align: left;\n",
       "    }\n",
       "\n",
       "    .dataframe tbody tr th {\n",
       "        vertical-align: top;\n",
       "    }\n",
       "</style>\n",
       "<table border=\"1\" class=\"dataframe\">\n",
       "  <thead>\n",
       "    <tr style=\"text-align: right;\">\n",
       "      <th></th>\n",
       "      <th>Unnamed: 0</th>\n",
       "      <th>Estimated Resident Population ;  Male ;  New South Wales ;</th>\n",
       "      <th>Estimated Resident Population ;  Male ;  Victoria ;</th>\n",
       "      <th>Estimated Resident Population ;  Male ;  Queensland ;</th>\n",
       "      <th>Estimated Resident Population ;  Male ;  South Australia ;</th>\n",
       "      <th>Estimated Resident Population ;  Male ;  Western Australia ;</th>\n",
       "      <th>Estimated Resident Population ;  Male ;  Tasmania ;</th>\n",
       "      <th>Estimated Resident Population ;  Male ;  Northern Territory ;</th>\n",
       "      <th>Estimated Resident Population ;  Male ;  Australian Capital Territory ;</th>\n",
       "      <th>Estimated Resident Population ;  Male ;  Australia ;</th>\n",
       "      <th>...</th>\n",
       "      <th>Estimated Resident Population ;  Female ;  Australia ;</th>\n",
       "      <th>Estimated Resident Population ;  Persons ;  New South Wales ;</th>\n",
       "      <th>Estimated Resident Population ;  Persons ;  Victoria ;</th>\n",
       "      <th>Estimated Resident Population ;  Persons ;  Queensland ;</th>\n",
       "      <th>Estimated Resident Population ;  Persons ;  South Australia ;</th>\n",
       "      <th>Estimated Resident Population ;  Persons ;  Western Australia ;</th>\n",
       "      <th>Estimated Resident Population ;  Persons ;  Tasmania ;</th>\n",
       "      <th>Estimated Resident Population ;  Persons ;  Northern Territory ;</th>\n",
       "      <th>Estimated Resident Population ;  Persons ;  Australian Capital Territory ;</th>\n",
       "      <th>Estimated Resident Population ;  Persons ;  Australia ;</th>\n",
       "    </tr>\n",
       "  </thead>\n",
       "  <tbody>\n",
       "    <tr>\n",
       "      <th>0</th>\n",
       "      <td>2005-12-01</td>\n",
       "      <td>3327461</td>\n",
       "      <td>2481962</td>\n",
       "      <td>1977783</td>\n",
       "      <td>762665</td>\n",
       "      <td>1022918</td>\n",
       "      <td>240625</td>\n",
       "      <td>107839</td>\n",
       "      <td>164850</td>\n",
       "      <td>10087382</td>\n",
       "      <td>...</td>\n",
       "      <td>10224161</td>\n",
       "      <td>6718023</td>\n",
       "      <td>5023203</td>\n",
       "      <td>3964175</td>\n",
       "      <td>1544852</td>\n",
       "      <td>2029936</td>\n",
       "      <td>488098</td>\n",
       "      <td>207385</td>\n",
       "      <td>333505</td>\n",
       "      <td>20311543</td>\n",
       "    </tr>\n",
       "    <tr>\n",
       "      <th>1</th>\n",
       "      <td>2006-03-01</td>\n",
       "      <td>3336005</td>\n",
       "      <td>2495951</td>\n",
       "      <td>1989764</td>\n",
       "      <td>765272</td>\n",
       "      <td>1030021</td>\n",
       "      <td>241193</td>\n",
       "      <td>108137</td>\n",
       "      <td>165351</td>\n",
       "      <td>10132982</td>\n",
       "      <td>...</td>\n",
       "      <td>10265150</td>\n",
       "      <td>6735528</td>\n",
       "      <td>5048207</td>\n",
       "      <td>3987653</td>\n",
       "      <td>1550135</td>\n",
       "      <td>2042450</td>\n",
       "      <td>489140</td>\n",
       "      <td>208347</td>\n",
       "      <td>334299</td>\n",
       "      <td>20398132</td>\n",
       "    </tr>\n",
       "    <tr>\n",
       "      <th>2</th>\n",
       "      <td>2006-06-01</td>\n",
       "      <td>3339035</td>\n",
       "      <td>2502687</td>\n",
       "      <td>1999858</td>\n",
       "      <td>766432</td>\n",
       "      <td>1034567</td>\n",
       "      <td>241227</td>\n",
       "      <td>108502</td>\n",
       "      <td>165814</td>\n",
       "      <td>10159424</td>\n",
       "      <td>...</td>\n",
       "      <td>10291542</td>\n",
       "      <td>6742690</td>\n",
       "      <td>5061266</td>\n",
       "      <td>4007992</td>\n",
       "      <td>1552529</td>\n",
       "      <td>2050581</td>\n",
       "      <td>489302</td>\n",
       "      <td>209057</td>\n",
       "      <td>335170</td>\n",
       "      <td>20450966</td>\n",
       "    </tr>\n",
       "    <tr>\n",
       "      <th>3</th>\n",
       "      <td>2006-09-01</td>\n",
       "      <td>3351254</td>\n",
       "      <td>2514544</td>\n",
       "      <td>2011909</td>\n",
       "      <td>768884</td>\n",
       "      <td>1040869</td>\n",
       "      <td>241864</td>\n",
       "      <td>109220</td>\n",
       "      <td>166549</td>\n",
       "      <td>10206440</td>\n",
       "      <td>...</td>\n",
       "      <td>10335842</td>\n",
       "      <td>6766133</td>\n",
       "      <td>5083593</td>\n",
       "      <td>4031580</td>\n",
       "      <td>1557332</td>\n",
       "      <td>2064032</td>\n",
       "      <td>490354</td>\n",
       "      <td>210284</td>\n",
       "      <td>336547</td>\n",
       "      <td>20542282</td>\n",
       "    </tr>\n",
       "    <tr>\n",
       "      <th>4</th>\n",
       "      <td>2006-12-01</td>\n",
       "      <td>3361292</td>\n",
       "      <td>2524859</td>\n",
       "      <td>2023921</td>\n",
       "      <td>770847</td>\n",
       "      <td>1047061</td>\n",
       "      <td>242549</td>\n",
       "      <td>109586</td>\n",
       "      <td>167405</td>\n",
       "      <td>10248923</td>\n",
       "      <td>...</td>\n",
       "      <td>10378624</td>\n",
       "      <td>6786160</td>\n",
       "      <td>5103965</td>\n",
       "      <td>4055845</td>\n",
       "      <td>1561300</td>\n",
       "      <td>2076867</td>\n",
       "      <td>491515</td>\n",
       "      <td>211029</td>\n",
       "      <td>338381</td>\n",
       "      <td>20627547</td>\n",
       "    </tr>\n",
       "  </tbody>\n",
       "</table>\n",
       "<p>5 rows × 28 columns</p>\n",
       "</div>"
      ],
      "text/plain": [
       "   Unnamed: 0  Estimated Resident Population ;  Male ;  New South Wales ;  \\\n",
       "0  2005-12-01                                            3327461            \n",
       "1  2006-03-01                                            3336005            \n",
       "2  2006-06-01                                            3339035            \n",
       "3  2006-09-01                                            3351254            \n",
       "4  2006-12-01                                            3361292            \n",
       "\n",
       "   Estimated Resident Population ;  Male ;  Victoria ;  \\\n",
       "0                                            2481962     \n",
       "1                                            2495951     \n",
       "2                                            2502687     \n",
       "3                                            2514544     \n",
       "4                                            2524859     \n",
       "\n",
       "   Estimated Resident Population ;  Male ;  Queensland ;  \\\n",
       "0                                            1977783       \n",
       "1                                            1989764       \n",
       "2                                            1999858       \n",
       "3                                            2011909       \n",
       "4                                            2023921       \n",
       "\n",
       "   Estimated Resident Population ;  Male ;  South Australia ;  \\\n",
       "0                                             762665            \n",
       "1                                             765272            \n",
       "2                                             766432            \n",
       "3                                             768884            \n",
       "4                                             770847            \n",
       "\n",
       "   Estimated Resident Population ;  Male ;  Western Australia ;  \\\n",
       "0                                            1022918              \n",
       "1                                            1030021              \n",
       "2                                            1034567              \n",
       "3                                            1040869              \n",
       "4                                            1047061              \n",
       "\n",
       "   Estimated Resident Population ;  Male ;  Tasmania ;  \\\n",
       "0                                             240625     \n",
       "1                                             241193     \n",
       "2                                             241227     \n",
       "3                                             241864     \n",
       "4                                             242549     \n",
       "\n",
       "   Estimated Resident Population ;  Male ;  Northern Territory ;  \\\n",
       "0                                             107839               \n",
       "1                                             108137               \n",
       "2                                             108502               \n",
       "3                                             109220               \n",
       "4                                             109586               \n",
       "\n",
       "   Estimated Resident Population ;  Male ;  Australian Capital Territory ;  \\\n",
       "0                                             164850                         \n",
       "1                                             165351                         \n",
       "2                                             165814                         \n",
       "3                                             166549                         \n",
       "4                                             167405                         \n",
       "\n",
       "   Estimated Resident Population ;  Male ;  Australia ;  \\\n",
       "0                                           10087382      \n",
       "1                                           10132982      \n",
       "2                                           10159424      \n",
       "3                                           10206440      \n",
       "4                                           10248923      \n",
       "\n",
       "                            ...                             \\\n",
       "0                           ...                              \n",
       "1                           ...                              \n",
       "2                           ...                              \n",
       "3                           ...                              \n",
       "4                           ...                              \n",
       "\n",
       "   Estimated Resident Population ;  Female ;  Australia ;  \\\n",
       "0                                           10224161        \n",
       "1                                           10265150        \n",
       "2                                           10291542        \n",
       "3                                           10335842        \n",
       "4                                           10378624        \n",
       "\n",
       "   Estimated Resident Population ;  Persons ;  New South Wales ;  \\\n",
       "0                                            6718023               \n",
       "1                                            6735528               \n",
       "2                                            6742690               \n",
       "3                                            6766133               \n",
       "4                                            6786160               \n",
       "\n",
       "   Estimated Resident Population ;  Persons ;  Victoria ;  \\\n",
       "0                                            5023203        \n",
       "1                                            5048207        \n",
       "2                                            5061266        \n",
       "3                                            5083593        \n",
       "4                                            5103965        \n",
       "\n",
       "   Estimated Resident Population ;  Persons ;  Queensland ;  \\\n",
       "0                                            3964175          \n",
       "1                                            3987653          \n",
       "2                                            4007992          \n",
       "3                                            4031580          \n",
       "4                                            4055845          \n",
       "\n",
       "   Estimated Resident Population ;  Persons ;  South Australia ;  \\\n",
       "0                                            1544852               \n",
       "1                                            1550135               \n",
       "2                                            1552529               \n",
       "3                                            1557332               \n",
       "4                                            1561300               \n",
       "\n",
       "   Estimated Resident Population ;  Persons ;  Western Australia ;  \\\n",
       "0                                            2029936                 \n",
       "1                                            2042450                 \n",
       "2                                            2050581                 \n",
       "3                                            2064032                 \n",
       "4                                            2076867                 \n",
       "\n",
       "   Estimated Resident Population ;  Persons ;  Tasmania ;  \\\n",
       "0                                             488098        \n",
       "1                                             489140        \n",
       "2                                             489302        \n",
       "3                                             490354        \n",
       "4                                             491515        \n",
       "\n",
       "   Estimated Resident Population ;  Persons ;  Northern Territory ;  \\\n",
       "0                                             207385                  \n",
       "1                                             208347                  \n",
       "2                                             209057                  \n",
       "3                                             210284                  \n",
       "4                                             211029                  \n",
       "\n",
       "   Estimated Resident Population ;  Persons ;  Australian Capital Territory ;  \\\n",
       "0                                             333505                            \n",
       "1                                             334299                            \n",
       "2                                             335170                            \n",
       "3                                             336547                            \n",
       "4                                             338381                            \n",
       "\n",
       "   Estimated Resident Population ;  Persons ;  Australia ;  \n",
       "0                                           20311543        \n",
       "1                                           20398132        \n",
       "2                                           20450966        \n",
       "3                                           20542282        \n",
       "4                                           20627547        \n",
       "\n",
       "[5 rows x 28 columns]"
      ]
     },
     "execution_count": 405,
     "metadata": {},
     "output_type": "execute_result"
    }
   ],
   "source": [
    "population = pd.read_csv(\"EstimatedResidentPopulationByStateAndGender.csv\")\n",
    "population.head()"
   ]
  },
  {
   "cell_type": "markdown",
   "metadata": {},
   "source": [
    "## A1. Investigating the Population Data\n",
    "\n",
    "1.In Python plot the population of Victoria, New South Wales and Queensland over time."
   ]
  },
  {
   "cell_type": "code",
   "execution_count": 359,
   "metadata": {
    "scrolled": true
   },
   "outputs": [
    {
     "data": {
      "image/png": "[encoded data removed]",
      "text/plain": [
       "<matplotlib.figure.Figure at 0xd9b6940>"
      ]
     },
     "metadata": {},
     "output_type": "display_data"
    }
   ],
   "source": [
    "plt.plot(population[\"Estimated Resident Population ;  Persons ;  Victoria ;\"], label=\"Victoria\")\n",
    "plt.plot(population[\"Estimated Resident Population ;  Persons ;  New South Wales ;\"], label=\"New South Wales\")\n",
    "plt.plot(population[\"Estimated Resident Population ;  Persons ;  Queensland ;\"], label=\"Queensland\")\n",
    "plt.legend()\n",
    "plt.ylabel(\"population\")\n",
    "plt.show()"
   ]
  },
  {
   "cell_type": "markdown",
   "metadata": {},
   "source": [
    "- increasing over time\n",
    "- yes, increasing"
   ]
  },
  {
   "cell_type": "markdown",
   "metadata": {},
   "source": [
    "2.Fit a linear regression using Python to the Victorian population data and plot the linear fit. "
   ]
  },
  {
   "cell_type": "code",
   "execution_count": 360,
   "metadata": {},
   "outputs": [
    {
     "data": {
      "image/png": "[encoded data removed]",
      "text/plain": [
       "<matplotlib.figure.Figure at 0xa95e4a8>"
      ]
     },
     "metadata": {},
     "output_type": "display_data"
    }
   ],
   "source": [
    "from scipy.stats import linregress\n",
    "y_data =  population[\"Estimated Resident Population ;  Persons ;  Victoria ;\"]\n",
    "length = len(y_data)\n",
    "x_data = range(1, length+1)\n",
    "slope, intercept, r_value, p_value, std_err = linregress(x_data, y_data)\n",
    "line = [slope*xi + intercept for xi in x_data]\n",
    "plt.plot(x_data,line,'r-', linewidth=3)\n",
    "plt.scatter(x_data, y_data)\n",
    "plt.show() "
   ]
  },
  {
   "cell_type": "code",
   "execution_count": 361,
   "metadata": {},
   "outputs": [
    {
     "name": "stdout",
     "output_type": "stream",
     "text": [
      "[5955909.8502024282, 5979953.5504048578, 6076128.3512145746, 6172303.1520242915]\n"
     ]
    }
   ],
   "source": [
    "# predict \n",
    "# 1/9/15\n",
    "x_data = [length+1, length+2, length++6, length+10]\n",
    "y_data = [slope*x + intercept for x in x_data]\n",
    "print(y_data)"
   ]
  },
  {
   "cell_type": "markdown",
   "metadata": {},
   "source": [
    "**answer:**\n",
    "- yes\n",
    "- the predict value are list as below:\n",
    "\n",
    "5955909.8502024282, 5979953.5504048578, 6076128.3512145746, 6172303.1520242915"
   ]
  },
  {
   "cell_type": "markdown",
   "metadata": {},
   "source": [
    "## A2. Investigating the Job Vacancies Data"
   ]
  },
  {
   "cell_type": "code",
   "execution_count": 362,
   "metadata": {},
   "outputs": [
    {
     "data": {
      "text/html": [
       "<div>\n",
       "<style>\n",
       "    .dataframe thead tr:only-child th {\n",
       "        text-align: right;\n",
       "    }\n",
       "\n",
       "    .dataframe thead th {\n",
       "        text-align: left;\n",
       "    }\n",
       "\n",
       "    .dataframe tbody tr th {\n",
       "        vertical-align: top;\n",
       "    }\n",
       "</style>\n",
       "<table border=\"1\" class=\"dataframe\">\n",
       "  <thead>\n",
       "    <tr style=\"text-align: right;\">\n",
       "      <th></th>\n",
       "      <th>NSW</th>\n",
       "      <th>VIC</th>\n",
       "      <th>QLD</th>\n",
       "      <th>SA</th>\n",
       "      <th>WA</th>\n",
       "      <th>TAS</th>\n",
       "      <th>NT</th>\n",
       "      <th>ACT</th>\n",
       "    </tr>\n",
       "  </thead>\n",
       "  <tbody>\n",
       "    <tr>\n",
       "      <th>2006-01-01</th>\n",
       "      <td>73047.8</td>\n",
       "      <td>49399.3</td>\n",
       "      <td>49807.5</td>\n",
       "      <td>13111.4</td>\n",
       "      <td>18087.6</td>\n",
       "      <td>2895.0</td>\n",
       "      <td>2563.0</td>\n",
       "      <td>3165.3</td>\n",
       "    </tr>\n",
       "    <tr>\n",
       "      <th>2006-02-01</th>\n",
       "      <td>73995.0</td>\n",
       "      <td>51027.9</td>\n",
       "      <td>49526.3</td>\n",
       "      <td>13160.9</td>\n",
       "      <td>18943.3</td>\n",
       "      <td>2874.7</td>\n",
       "      <td>2402.0</td>\n",
       "      <td>3335.5</td>\n",
       "    </tr>\n",
       "    <tr>\n",
       "      <th>2006-03-01</th>\n",
       "      <td>75246.3</td>\n",
       "      <td>51492.4</td>\n",
       "      <td>49233.0</td>\n",
       "      <td>13669.6</td>\n",
       "      <td>19739.3</td>\n",
       "      <td>3272.3</td>\n",
       "      <td>2485.0</td>\n",
       "      <td>3473.9</td>\n",
       "    </tr>\n",
       "    <tr>\n",
       "      <th>2006-04-01</th>\n",
       "      <td>76539.8</td>\n",
       "      <td>51473.1</td>\n",
       "      <td>50440.4</td>\n",
       "      <td>13308.7</td>\n",
       "      <td>19854.2</td>\n",
       "      <td>2833.2</td>\n",
       "      <td>2590.6</td>\n",
       "      <td>3493.0</td>\n",
       "    </tr>\n",
       "    <tr>\n",
       "      <th>2006-05-01</th>\n",
       "      <td>75614.9</td>\n",
       "      <td>50570.0</td>\n",
       "      <td>51387.3</td>\n",
       "      <td>13095.8</td>\n",
       "      <td>20351.9</td>\n",
       "      <td>2747.1</td>\n",
       "      <td>2805.4</td>\n",
       "      <td>3666.7</td>\n",
       "    </tr>\n",
       "  </tbody>\n",
       "</table>\n",
       "</div>"
      ],
      "text/plain": [
       "                NSW      VIC      QLD       SA       WA     TAS      NT  \\\n",
       "2006-01-01  73047.8  49399.3  49807.5  13111.4  18087.6  2895.0  2563.0   \n",
       "2006-02-01  73995.0  51027.9  49526.3  13160.9  18943.3  2874.7  2402.0   \n",
       "2006-03-01  75246.3  51492.4  49233.0  13669.6  19739.3  3272.3  2485.0   \n",
       "2006-04-01  76539.8  51473.1  50440.4  13308.7  19854.2  2833.2  2590.6   \n",
       "2006-05-01  75614.9  50570.0  51387.3  13095.8  20351.9  2747.1  2805.4   \n",
       "\n",
       "               ACT  \n",
       "2006-01-01  3165.3  \n",
       "2006-02-01  3335.5  \n",
       "2006-03-01  3473.9  \n",
       "2006-04-01  3493.0  \n",
       "2006-05-01  3666.7  "
      ]
     },
     "execution_count": 362,
     "metadata": {},
     "output_type": "execute_result"
    }
   ],
   "source": [
    "vacancies = pd.read_csv(\"JobVacancies.csv\")\n",
    "v_states = vacancies.loc[:,[\"State\"]].values\n",
    "v_states = [item[0] for item in v_states]\n",
    "v_dates = vacancies.columns[1:]\n",
    "v_values=vacancies.iloc[:, 1:].values\n",
    "vacancies = pd.DataFrame(v_values, index=v_states, columns=v_dates)\n",
    "vacancies=vacancies.transpose()\n",
    "vacancies.head()"
   ]
  },
  {
   "cell_type": "code",
   "execution_count": 363,
   "metadata": {},
   "outputs": [
    {
     "name": "stdout",
     "output_type": "stream",
     "text": [
      "min_value: 32322.2\n",
      "max_value: 71971.4\n"
     ]
    },
    {
     "data": {
      "image/png": "[encoded data removed]",
      "text/plain": [
       "<matplotlib.figure.Figure at 0x8a942e8>"
      ]
     },
     "metadata": {},
     "output_type": "display_data"
    }
   ],
   "source": [
    "vic_data = vacancies[\"VIC\"]\n",
    "min_value = min(vic_data)\n",
    "max_value = max(vic_data)\n",
    "print(\"min_value:\", min_value)\n",
    "print(\"max_value:\", max_value)\n",
    "plt.plot(list(vic_data))\n",
    "plt.ylabel(\"vacancy\")\n",
    "plt.show()"
   ]
  },
  {
   "cell_type": "markdown",
   "metadata": {},
   "source": [
    "**Answer**\n",
    "1. Min value: 32322.2 Max value: 71971.4"
   ]
  },
  {
   "cell_type": "code",
   "execution_count": 364,
   "metadata": {},
   "outputs": [
    {
     "data": {
      "image/png": "[encoded data removed]",
      "text/plain": [
       "<matplotlib.figure.Figure at 0xa91b160>"
      ]
     },
     "metadata": {},
     "output_type": "display_data"
    }
   ],
   "source": [
    "vic_data = list(vic_data)\n",
    "length = len(vic_data)\n",
    "x_data = range(1, length+1)\n",
    "slope, intercept, r_value, p_value, std_err = linregress(x_data, vic_data)\n",
    "line = [slope*xi + intercept for xi in x_data]\n",
    "plt.plot(x_data,line,'r-', linewidth=3)\n",
    "plt.scatter(x_data, vic_data)\n",
    "plt.show() "
   ]
  },
  {
   "cell_type": "code",
   "execution_count": 365,
   "metadata": {},
   "outputs": [
    {
     "data": {
      "image/png": "[encoded data removed]",
      "text/plain": [
       "<matplotlib.figure.Figure at 0xd713198>"
      ]
     },
     "metadata": {},
     "output_type": "display_data"
    }
   ],
   "source": [
    "vic_data = vic_data[85:]\n",
    "length = len(vic_data)\n",
    "x_data = range(1, length+1)\n",
    "slope, intercept, r_value, p_value, std_err = linregress(x_data, vic_data)\n",
    "line = [slope*xi + intercept for xi in x_data]\n",
    "plt.plot(x_data,line,'r-', linewidth=3)\n",
    "plt.scatter(x_data, vic_data)\n",
    "plt.show() "
   ]
  },
  {
   "cell_type": "markdown",
   "metadata": {},
   "source": [
    "**answer**\n",
    "1. No, I would not;\n",
    "2. Fits very good, the last one"
   ]
  },
  {
   "cell_type": "markdown",
   "metadata": {},
   "source": [
    "## A3. Investigating the Unemployment Data"
   ]
  },
  {
   "cell_type": "code",
   "execution_count": 366,
   "metadata": {
    "scrolled": true
   },
   "outputs": [
    {
     "data": {
      "text/html": [
       "<div>\n",
       "<style>\n",
       "    .dataframe thead tr:only-child th {\n",
       "        text-align: right;\n",
       "    }\n",
       "\n",
       "    .dataframe thead th {\n",
       "        text-align: left;\n",
       "    }\n",
       "\n",
       "    .dataframe tbody tr th {\n",
       "        vertical-align: top;\n",
       "    }\n",
       "</style>\n",
       "<table border=\"1\" class=\"dataframe\">\n",
       "  <thead>\n",
       "    <tr style=\"text-align: right;\">\n",
       "      <th></th>\n",
       "      <th>State/Territory</th>\n",
       "      <th>Date</th>\n",
       "      <th>Employment Rate (15-64)</th>\n",
       "      <th>Unemployment Rate (15+)</th>\n",
       "      <th>Participation Rate (15+)</th>\n",
       "    </tr>\n",
       "  </thead>\n",
       "  <tbody>\n",
       "    <tr>\n",
       "      <th>0</th>\n",
       "      <td>NSW</td>\n",
       "      <td>1978-02-01</td>\n",
       "      <td>n/a</td>\n",
       "      <td>6.773762</td>\n",
       "      <td>60.735313</td>\n",
       "    </tr>\n",
       "    <tr>\n",
       "      <th>1</th>\n",
       "      <td>NSW</td>\n",
       "      <td>1978-03-01</td>\n",
       "      <td>n/a</td>\n",
       "      <td>6.490161</td>\n",
       "      <td>59.851078</td>\n",
       "    </tr>\n",
       "    <tr>\n",
       "      <th>2</th>\n",
       "      <td>NSW</td>\n",
       "      <td>1978-04-01</td>\n",
       "      <td>63.7195</td>\n",
       "      <td>6.507978</td>\n",
       "      <td>60.168513</td>\n",
       "    </tr>\n",
       "    <tr>\n",
       "      <th>3</th>\n",
       "      <td>NSW</td>\n",
       "      <td>1978-05-01</td>\n",
       "      <td>63.682</td>\n",
       "      <td>6.115171</td>\n",
       "      <td>60.003564</td>\n",
       "    </tr>\n",
       "    <tr>\n",
       "      <th>4</th>\n",
       "      <td>NSW</td>\n",
       "      <td>1978-06-01</td>\n",
       "      <td>63.6829</td>\n",
       "      <td>6.424127</td>\n",
       "      <td>60.145380</td>\n",
       "    </tr>\n",
       "  </tbody>\n",
       "</table>\n",
       "</div>"
      ],
      "text/plain": [
       "  State/Territory       Date Employment Rate (15-64)  Unemployment Rate (15+)  \\\n",
       "0             NSW 1978-02-01                     n/a                 6.773762   \n",
       "1             NSW 1978-03-01                     n/a                 6.490161   \n",
       "2             NSW 1978-04-01                 63.7195                 6.507978   \n",
       "3             NSW 1978-05-01                  63.682                 6.115171   \n",
       "4             NSW 1978-06-01                 63.6829                 6.424127   \n",
       "\n",
       "   Participation Rate (15+)  \n",
       "0                 60.735313  \n",
       "1                 59.851078  \n",
       "2                 60.168513  \n",
       "3                 60.003564  \n",
       "4                 60.145380  "
      ]
     },
     "execution_count": 366,
     "metadata": {},
     "output_type": "execute_result"
    }
   ],
   "source": [
    "xls = pd.read_excel(\"EmploymentTimeSeries.xls\", sheetname=\"Time Series\")\n",
    "xls.head()"
   ]
  },
  {
   "cell_type": "code",
   "execution_count": 367,
   "metadata": {},
   "outputs": [
    {
     "data": {
      "image/png": "[encoded data removed]",
      "text/plain": [
       "<matplotlib.figure.Figure at 0xd4a2e48>"
      ]
     },
     "metadata": {},
     "output_type": "display_data"
    }
   ],
   "source": [
    "vics = xls.loc[xls[\"State/Territory\"]==\"VIC\"]\n",
    "unemployments = vics[\"Unemployment Rate (15+)\"]\n",
    "plt.plot(unemployments)\n",
    "plt.show()"
   ]
  },
  {
   "cell_type": "code",
   "execution_count": 368,
   "metadata": {},
   "outputs": [
    {
     "name": "stdout",
     "output_type": "stream",
     "text": [
      "12.5533377\n",
      "1993-08-01 00:00:00\n"
     ]
    }
   ],
   "source": [
    "un_dates =  list(vics[\"Date\"])\n",
    "unemployments = list(unemployments)\n",
    "max_data = max(unemployments)\n",
    "index = unemployments.index(max_data)\n",
    "print(max_data)\n",
    "print(un_dates[index])"
   ]
  },
  {
   "cell_type": "markdown",
   "metadata": {},
   "source": [
    "**answer**\n",
    "- the maximum unemployment rate in Victoria recorded in the dataset  is 12.5533377%, it occured at 1993-08-01"
   ]
  },
  {
   "cell_type": "markdown",
   "metadata": {},
   "source": [
    "## A4. Visualizing the Relationship between Unemployment and Job Vacancies"
   ]
  },
  {
   "cell_type": "code",
   "execution_count": 369,
   "metadata": {},
   "outputs": [
    {
     "name": "stdout",
     "output_type": "stream",
     "text": [
      "2006-03-01\n",
      "2015-06-01\n"
     ]
    }
   ],
   "source": [
    "#population = pd.read_csv(\"EstimatedResidentPopulationByStateAndGender.csv\")\n",
    "#vacancies = pd.read_csv(\"JobVacancies.csv\")\n",
    "#xls = pd.read_excel(\"EmploymentTimeSeries.xls\", sheetname=\"Time Series\")\n",
    "vac_dates = vacancies.index\n",
    "un_dates = xls[\"Date\"]\n",
    "pop_dates = population[\"Unnamed: 0\"].values\n",
    "un_dates = [date.strftime(\"%Y-%m-%d\") for date in un_dates]\n",
    "final_dates = list(set(vac_dates) & set(un_dates) & set(pop_dates))\n",
    "final_dates.sort()\n",
    "min_date = final_dates[0]\n",
    "max_date = final_dates[-1]\n",
    "print(min_date)\n",
    "print(max_date)"
   ]
  },
  {
   "cell_type": "code",
   "execution_count": 370,
   "metadata": {},
   "outputs": [
    {
     "data": {
      "text/html": [
       "<div>\n",
       "<style>\n",
       "    .dataframe thead tr:only-child th {\n",
       "        text-align: right;\n",
       "    }\n",
       "\n",
       "    .dataframe thead th {\n",
       "        text-align: left;\n",
       "    }\n",
       "\n",
       "    .dataframe tbody tr th {\n",
       "        vertical-align: top;\n",
       "    }\n",
       "</style>\n",
       "<table border=\"1\" class=\"dataframe\">\n",
       "  <thead>\n",
       "    <tr style=\"text-align: right;\">\n",
       "      <th></th>\n",
       "      <th>State/Territory</th>\n",
       "      <th>Date</th>\n",
       "      <th>Employment Rate (15-64)</th>\n",
       "      <th>Unemployment Rate (15+)</th>\n",
       "      <th>Participation Rate (15+)</th>\n",
       "    </tr>\n",
       "  </thead>\n",
       "  <tbody>\n",
       "    <tr>\n",
       "      <th>337</th>\n",
       "      <td>NSW</td>\n",
       "      <td>2006-03-01</td>\n",
       "      <td>70.0879</td>\n",
       "      <td>4.978780</td>\n",
       "      <td>62.766252</td>\n",
       "    </tr>\n",
       "    <tr>\n",
       "      <th>340</th>\n",
       "      <td>NSW</td>\n",
       "      <td>2006-06-01</td>\n",
       "      <td>70.374</td>\n",
       "      <td>5.288439</td>\n",
       "      <td>63.154613</td>\n",
       "    </tr>\n",
       "    <tr>\n",
       "      <th>343</th>\n",
       "      <td>NSW</td>\n",
       "      <td>2006-09-01</td>\n",
       "      <td>70.6042</td>\n",
       "      <td>5.200780</td>\n",
       "      <td>63.356167</td>\n",
       "    </tr>\n",
       "    <tr>\n",
       "      <th>346</th>\n",
       "      <td>NSW</td>\n",
       "      <td>2006-12-01</td>\n",
       "      <td>71.0609</td>\n",
       "      <td>4.811675</td>\n",
       "      <td>63.577304</td>\n",
       "    </tr>\n",
       "    <tr>\n",
       "      <th>349</th>\n",
       "      <td>NSW</td>\n",
       "      <td>2007-03-01</td>\n",
       "      <td>70.2686</td>\n",
       "      <td>4.957025</td>\n",
       "      <td>62.909350</td>\n",
       "    </tr>\n",
       "  </tbody>\n",
       "</table>\n",
       "</div>"
      ],
      "text/plain": [
       "    State/Territory       Date Employment Rate (15-64)  \\\n",
       "337             NSW 2006-03-01                 70.0879   \n",
       "340             NSW 2006-06-01                  70.374   \n",
       "343             NSW 2006-09-01                 70.6042   \n",
       "346             NSW 2006-12-01                 71.0609   \n",
       "349             NSW 2007-03-01                 70.2686   \n",
       "\n",
       "     Unemployment Rate (15+)  Participation Rate (15+)  \n",
       "337                 4.978780                 62.766252  \n",
       "340                 5.288439                 63.154613  \n",
       "343                 5.200780                 63.356167  \n",
       "346                 4.811675                 63.577304  \n",
       "349                 4.957025                 62.909350  "
      ]
     },
     "execution_count": 370,
     "metadata": {},
     "output_type": "execute_result"
    }
   ],
   "source": [
    "filter_array1 = [date in final_dates for date in un_dates]\n",
    "filter_un_data = xls.loc[filter_array1]\n",
    "filter_un_data.head()"
   ]
  },
  {
   "cell_type": "code",
   "execution_count": 371,
   "metadata": {
    "scrolled": true
   },
   "outputs": [
    {
     "data": {
      "text/html": [
       "<div>\n",
       "<style>\n",
       "    .dataframe thead tr:only-child th {\n",
       "        text-align: right;\n",
       "    }\n",
       "\n",
       "    .dataframe thead th {\n",
       "        text-align: left;\n",
       "    }\n",
       "\n",
       "    .dataframe tbody tr th {\n",
       "        vertical-align: top;\n",
       "    }\n",
       "</style>\n",
       "<table border=\"1\" class=\"dataframe\">\n",
       "  <thead>\n",
       "    <tr style=\"text-align: right;\">\n",
       "      <th></th>\n",
       "      <th>NSW</th>\n",
       "      <th>VIC</th>\n",
       "      <th>QLD</th>\n",
       "      <th>SA</th>\n",
       "      <th>WA</th>\n",
       "      <th>TAS</th>\n",
       "      <th>NT</th>\n",
       "      <th>ACT</th>\n",
       "    </tr>\n",
       "  </thead>\n",
       "  <tbody>\n",
       "    <tr>\n",
       "      <th>2006-03-01</th>\n",
       "      <td>75246.3</td>\n",
       "      <td>51492.4</td>\n",
       "      <td>49233.0</td>\n",
       "      <td>13669.6</td>\n",
       "      <td>19739.3</td>\n",
       "      <td>3272.3</td>\n",
       "      <td>2485.0</td>\n",
       "      <td>3473.9</td>\n",
       "    </tr>\n",
       "    <tr>\n",
       "      <th>2006-06-01</th>\n",
       "      <td>81637.1</td>\n",
       "      <td>53746.2</td>\n",
       "      <td>54667.4</td>\n",
       "      <td>13611.8</td>\n",
       "      <td>22077.5</td>\n",
       "      <td>2978.1</td>\n",
       "      <td>3201.0</td>\n",
       "      <td>3719.0</td>\n",
       "    </tr>\n",
       "    <tr>\n",
       "      <th>2006-09-01</th>\n",
       "      <td>76411.3</td>\n",
       "      <td>51013.6</td>\n",
       "      <td>51180.1</td>\n",
       "      <td>13287.1</td>\n",
       "      <td>20614.3</td>\n",
       "      <td>2609.5</td>\n",
       "      <td>2785.0</td>\n",
       "      <td>3767.6</td>\n",
       "    </tr>\n",
       "    <tr>\n",
       "      <th>2006-12-01</th>\n",
       "      <td>80972.6</td>\n",
       "      <td>55297.1</td>\n",
       "      <td>53252.2</td>\n",
       "      <td>13897.3</td>\n",
       "      <td>21682.7</td>\n",
       "      <td>3314.8</td>\n",
       "      <td>2808.8</td>\n",
       "      <td>3851.3</td>\n",
       "    </tr>\n",
       "    <tr>\n",
       "      <th>2007-03-01</th>\n",
       "      <td>88785.0</td>\n",
       "      <td>61757.6</td>\n",
       "      <td>63720.7</td>\n",
       "      <td>15056.0</td>\n",
       "      <td>25251.3</td>\n",
       "      <td>3223.9</td>\n",
       "      <td>3258.9</td>\n",
       "      <td>4383.5</td>\n",
       "    </tr>\n",
       "  </tbody>\n",
       "</table>\n",
       "</div>"
      ],
      "text/plain": [
       "                NSW      VIC      QLD       SA       WA     TAS      NT  \\\n",
       "2006-03-01  75246.3  51492.4  49233.0  13669.6  19739.3  3272.3  2485.0   \n",
       "2006-06-01  81637.1  53746.2  54667.4  13611.8  22077.5  2978.1  3201.0   \n",
       "2006-09-01  76411.3  51013.6  51180.1  13287.1  20614.3  2609.5  2785.0   \n",
       "2006-12-01  80972.6  55297.1  53252.2  13897.3  21682.7  3314.8  2808.8   \n",
       "2007-03-01  88785.0  61757.6  63720.7  15056.0  25251.3  3223.9  3258.9   \n",
       "\n",
       "               ACT  \n",
       "2006-03-01  3473.9  \n",
       "2006-06-01  3719.0  \n",
       "2006-09-01  3767.6  \n",
       "2006-12-01  3851.3  \n",
       "2007-03-01  4383.5  "
      ]
     },
     "execution_count": 371,
     "metadata": {},
     "output_type": "execute_result"
    }
   ],
   "source": [
    "filter_array2 = [date in final_dates for date in vac_dates]\n",
    "filter_vac_data = vacancies.loc[filter_array2]\n",
    "filter_vac_data.head()"
   ]
  },
  {
   "cell_type": "code",
   "execution_count": 372,
   "metadata": {},
   "outputs": [
    {
     "data": {
      "text/html": [
       "<div>\n",
       "<style>\n",
       "    .dataframe thead tr:only-child th {\n",
       "        text-align: right;\n",
       "    }\n",
       "\n",
       "    .dataframe thead th {\n",
       "        text-align: left;\n",
       "    }\n",
       "\n",
       "    .dataframe tbody tr th {\n",
       "        vertical-align: top;\n",
       "    }\n",
       "</style>\n",
       "<table border=\"1\" class=\"dataframe\">\n",
       "  <thead>\n",
       "    <tr style=\"text-align: right;\">\n",
       "      <th></th>\n",
       "      <th>NSW</th>\n",
       "      <th>VIC</th>\n",
       "      <th>QLD</th>\n",
       "      <th>SA</th>\n",
       "      <th>WA</th>\n",
       "      <th>TAS</th>\n",
       "      <th>NT</th>\n",
       "      <th>ACT</th>\n",
       "    </tr>\n",
       "  </thead>\n",
       "  <tbody>\n",
       "    <tr>\n",
       "      <th>2006-03-01</th>\n",
       "      <td>6735528</td>\n",
       "      <td>5048207</td>\n",
       "      <td>3987653</td>\n",
       "      <td>1550135</td>\n",
       "      <td>2042450</td>\n",
       "      <td>489140</td>\n",
       "      <td>208347</td>\n",
       "      <td>334299</td>\n",
       "    </tr>\n",
       "    <tr>\n",
       "      <th>2006-06-01</th>\n",
       "      <td>6742690</td>\n",
       "      <td>5061266</td>\n",
       "      <td>4007992</td>\n",
       "      <td>1552529</td>\n",
       "      <td>2050581</td>\n",
       "      <td>489302</td>\n",
       "      <td>209057</td>\n",
       "      <td>335170</td>\n",
       "    </tr>\n",
       "    <tr>\n",
       "      <th>2006-09-01</th>\n",
       "      <td>6766133</td>\n",
       "      <td>5083593</td>\n",
       "      <td>4031580</td>\n",
       "      <td>1557332</td>\n",
       "      <td>2064032</td>\n",
       "      <td>490354</td>\n",
       "      <td>210284</td>\n",
       "      <td>336547</td>\n",
       "    </tr>\n",
       "    <tr>\n",
       "      <th>2006-12-01</th>\n",
       "      <td>6786160</td>\n",
       "      <td>5103965</td>\n",
       "      <td>4055845</td>\n",
       "      <td>1561300</td>\n",
       "      <td>2076867</td>\n",
       "      <td>491515</td>\n",
       "      <td>211029</td>\n",
       "      <td>338381</td>\n",
       "    </tr>\n",
       "    <tr>\n",
       "      <th>2007-03-01</th>\n",
       "      <td>6815359</td>\n",
       "      <td>5134074</td>\n",
       "      <td>4084531</td>\n",
       "      <td>1567206</td>\n",
       "      <td>2093633</td>\n",
       "      <td>492625</td>\n",
       "      <td>212372</td>\n",
       "      <td>340544</td>\n",
       "    </tr>\n",
       "  </tbody>\n",
       "</table>\n",
       "</div>"
      ],
      "text/plain": [
       "                NSW      VIC      QLD       SA       WA     TAS      NT  \\\n",
       "2006-03-01  6735528  5048207  3987653  1550135  2042450  489140  208347   \n",
       "2006-06-01  6742690  5061266  4007992  1552529  2050581  489302  209057   \n",
       "2006-09-01  6766133  5083593  4031580  1557332  2064032  490354  210284   \n",
       "2006-12-01  6786160  5103965  4055845  1561300  2076867  491515  211029   \n",
       "2007-03-01  6815359  5134074  4084531  1567206  2093633  492625  212372   \n",
       "\n",
       "               ACT  \n",
       "2006-03-01  334299  \n",
       "2006-06-01  335170  \n",
       "2006-09-01  336547  \n",
       "2006-12-01  338381  \n",
       "2007-03-01  340544  "
      ]
     },
     "execution_count": 372,
     "metadata": {},
     "output_type": "execute_result"
    }
   ],
   "source": [
    "pop_columns=[\"NSW\",\"VIC\", \"QLD\", \"SA\", \"WA\", \"TAS\", \"NT\", \"ACT\"]\n",
    "pop_values = population.iloc[:,19:-1].values\n",
    "populations=pd.DataFrame(pop_values, index=pop_dates, columns=pop_columns)\n",
    "filter_array3 = [date in final_dates for date in pop_dates]\n",
    "filter_pop_data = populations.loc[filter_array3]\n",
    "filter_pop_data.head()"
   ]
  },
  {
   "cell_type": "code",
   "execution_count": 373,
   "metadata": {},
   "outputs": [
    {
     "data": {
      "text/html": [
       "<div>\n",
       "<style>\n",
       "    .dataframe thead tr:only-child th {\n",
       "        text-align: right;\n",
       "    }\n",
       "\n",
       "    .dataframe thead th {\n",
       "        text-align: left;\n",
       "    }\n",
       "\n",
       "    .dataframe tbody tr th {\n",
       "        vertical-align: top;\n",
       "    }\n",
       "</style>\n",
       "<table border=\"1\" class=\"dataframe\">\n",
       "  <thead>\n",
       "    <tr style=\"text-align: right;\">\n",
       "      <th></th>\n",
       "      <th>State/Territory</th>\n",
       "      <th>Date</th>\n",
       "      <th>Employment Rate (15-64)</th>\n",
       "      <th>Unemployment Rate (15+)</th>\n",
       "      <th>Participation Rate (15+)</th>\n",
       "      <th>Vacancies</th>\n",
       "      <th>Population</th>\n",
       "    </tr>\n",
       "  </thead>\n",
       "  <tbody>\n",
       "    <tr>\n",
       "      <th>337</th>\n",
       "      <td>NSW</td>\n",
       "      <td>2006-03-01</td>\n",
       "      <td>70.0879</td>\n",
       "      <td>4.978780</td>\n",
       "      <td>62.766252</td>\n",
       "      <td>75246.3</td>\n",
       "      <td>6735528</td>\n",
       "    </tr>\n",
       "    <tr>\n",
       "      <th>340</th>\n",
       "      <td>NSW</td>\n",
       "      <td>2006-06-01</td>\n",
       "      <td>70.374</td>\n",
       "      <td>5.288439</td>\n",
       "      <td>63.154613</td>\n",
       "      <td>81637.1</td>\n",
       "      <td>6742690</td>\n",
       "    </tr>\n",
       "    <tr>\n",
       "      <th>343</th>\n",
       "      <td>NSW</td>\n",
       "      <td>2006-09-01</td>\n",
       "      <td>70.6042</td>\n",
       "      <td>5.200780</td>\n",
       "      <td>63.356167</td>\n",
       "      <td>76411.3</td>\n",
       "      <td>6766133</td>\n",
       "    </tr>\n",
       "    <tr>\n",
       "      <th>346</th>\n",
       "      <td>NSW</td>\n",
       "      <td>2006-12-01</td>\n",
       "      <td>71.0609</td>\n",
       "      <td>4.811675</td>\n",
       "      <td>63.577304</td>\n",
       "      <td>80972.6</td>\n",
       "      <td>6786160</td>\n",
       "    </tr>\n",
       "    <tr>\n",
       "      <th>349</th>\n",
       "      <td>NSW</td>\n",
       "      <td>2007-03-01</td>\n",
       "      <td>70.2686</td>\n",
       "      <td>4.957025</td>\n",
       "      <td>62.909350</td>\n",
       "      <td>88785.0</td>\n",
       "      <td>6815359</td>\n",
       "    </tr>\n",
       "  </tbody>\n",
       "</table>\n",
       "</div>"
      ],
      "text/plain": [
       "    State/Territory       Date Employment Rate (15-64)  \\\n",
       "337             NSW 2006-03-01                 70.0879   \n",
       "340             NSW 2006-06-01                  70.374   \n",
       "343             NSW 2006-09-01                 70.6042   \n",
       "346             NSW 2006-12-01                 71.0609   \n",
       "349             NSW 2007-03-01                 70.2686   \n",
       "\n",
       "     Unemployment Rate (15+)  Participation Rate (15+)  Vacancies  Population  \n",
       "337                 4.978780                 62.766252    75246.3     6735528  \n",
       "340                 5.288439                 63.154613    81637.1     6742690  \n",
       "343                 5.200780                 63.356167    76411.3     6766133  \n",
       "346                 4.811675                 63.577304    80972.6     6786160  \n",
       "349                 4.957025                 62.909350    88785.0     6815359  "
      ]
     },
     "execution_count": 373,
     "metadata": {},
     "output_type": "execute_result"
    }
   ],
   "source": [
    "keys = filter_un_data.loc[:, [\"State/Territory\", \"Date\"]].values\n",
    "vac_values = []\n",
    "pop_values = []\n",
    "for state, date in keys:\n",
    "    date = date.strftime(\"%Y-%m-%d\")\n",
    "    value = filter_vac_data.loc[date, state]\n",
    "    vac_values.append(value)\n",
    "    pop_values.append(filter_pop_data.loc[date, state])\n",
    "merged_table = filter_un_data.copy(True)\n",
    "merged_table[\"Vacancies\"] = vac_values\n",
    "merged_table[\"Population\"] = pop_values\n",
    "merged_table.head()"
   ]
  },
  {
   "cell_type": "code",
   "execution_count": 374,
   "metadata": {},
   "outputs": [
    {
     "data": {
      "image/png": "[encoded data removed]",
      "text/plain": [
       "<matplotlib.figure.Figure at 0xd0e5c18>"
      ]
     },
     "metadata": {},
     "output_type": "display_data"
    }
   ],
   "source": [
    "vacancies_value = list(merged_table[\"Vacancies\"])\n",
    "vacancies_value = [item/10000.0 for item in vacancies_value]\n",
    "x_values = range(1, len(vacancies_value)+1)\n",
    "plt.plot(x_values, list(merged_table[\"Unemployment Rate (15+)\"]))\n",
    "plt.plot(x_values,vacancies_value)\n",
    "plt.show()"
   ]
  },
  {
   "cell_type": "code",
   "execution_count": 375,
   "metadata": {},
   "outputs": [
    {
     "data": {
      "image/png": "[encoded data removed]",
      "text/plain": [
       "<matplotlib.figure.Figure at 0xda8dc18>"
      ]
     },
     "metadata": {},
     "output_type": "display_data"
    }
   ],
   "source": [
    "vic_merged_table = merged_table.loc[merged_table[\"State/Territory\"] == \"VIC\"]\n",
    "vic_un_data = list(vic_merged_table[\"Unemployment Rate (15+)\"])\n",
    "vic_vac_data = list(vic_merged_table[\"Vacancies\"])\n",
    "vic_vac_data = [item/10000 for item in vic_vac_data]\n",
    "x_values = range(1,len(vic_un_data)+1)\n",
    "plt.plot(x_values, vic_un_data)\n",
    "plt.plot(x_values, vic_vac_data)\n",
    "plt.show()"
   ]
  },
  {
   "cell_type": "code",
   "execution_count": 376,
   "metadata": {},
   "outputs": [
    {
     "data": {
      "text/html": [
       "<div>\n",
       "<style>\n",
       "    .dataframe thead tr:only-child th {\n",
       "        text-align: right;\n",
       "    }\n",
       "\n",
       "    .dataframe thead th {\n",
       "        text-align: left;\n",
       "    }\n",
       "\n",
       "    .dataframe tbody tr th {\n",
       "        vertical-align: top;\n",
       "    }\n",
       "</style>\n",
       "<table border=\"1\" class=\"dataframe\">\n",
       "  <thead>\n",
       "    <tr style=\"text-align: right;\">\n",
       "      <th></th>\n",
       "      <th>State/Territory</th>\n",
       "      <th>Date</th>\n",
       "      <th>Employment Rate (15-64)</th>\n",
       "      <th>Unemployment Rate (15+)</th>\n",
       "      <th>Participation Rate (15+)</th>\n",
       "      <th>Vacancies</th>\n",
       "      <th>Population</th>\n",
       "      <th>VacancyRate</th>\n",
       "    </tr>\n",
       "  </thead>\n",
       "  <tbody>\n",
       "    <tr>\n",
       "      <th>337</th>\n",
       "      <td>NSW</td>\n",
       "      <td>2006-03-01</td>\n",
       "      <td>70.0879</td>\n",
       "      <td>4.978780</td>\n",
       "      <td>62.766252</td>\n",
       "      <td>75246.3</td>\n",
       "      <td>6735528</td>\n",
       "      <td>1.117155</td>\n",
       "    </tr>\n",
       "    <tr>\n",
       "      <th>340</th>\n",
       "      <td>NSW</td>\n",
       "      <td>2006-06-01</td>\n",
       "      <td>70.374</td>\n",
       "      <td>5.288439</td>\n",
       "      <td>63.154613</td>\n",
       "      <td>81637.1</td>\n",
       "      <td>6742690</td>\n",
       "      <td>1.210750</td>\n",
       "    </tr>\n",
       "    <tr>\n",
       "      <th>343</th>\n",
       "      <td>NSW</td>\n",
       "      <td>2006-09-01</td>\n",
       "      <td>70.6042</td>\n",
       "      <td>5.200780</td>\n",
       "      <td>63.356167</td>\n",
       "      <td>76411.3</td>\n",
       "      <td>6766133</td>\n",
       "      <td>1.129320</td>\n",
       "    </tr>\n",
       "    <tr>\n",
       "      <th>346</th>\n",
       "      <td>NSW</td>\n",
       "      <td>2006-12-01</td>\n",
       "      <td>71.0609</td>\n",
       "      <td>4.811675</td>\n",
       "      <td>63.577304</td>\n",
       "      <td>80972.6</td>\n",
       "      <td>6786160</td>\n",
       "      <td>1.193202</td>\n",
       "    </tr>\n",
       "    <tr>\n",
       "      <th>349</th>\n",
       "      <td>NSW</td>\n",
       "      <td>2007-03-01</td>\n",
       "      <td>70.2686</td>\n",
       "      <td>4.957025</td>\n",
       "      <td>62.909350</td>\n",
       "      <td>88785.0</td>\n",
       "      <td>6815359</td>\n",
       "      <td>1.302719</td>\n",
       "    </tr>\n",
       "  </tbody>\n",
       "</table>\n",
       "</div>"
      ],
      "text/plain": [
       "    State/Territory       Date Employment Rate (15-64)  \\\n",
       "337             NSW 2006-03-01                 70.0879   \n",
       "340             NSW 2006-06-01                  70.374   \n",
       "343             NSW 2006-09-01                 70.6042   \n",
       "346             NSW 2006-12-01                 71.0609   \n",
       "349             NSW 2007-03-01                 70.2686   \n",
       "\n",
       "     Unemployment Rate (15+)  Participation Rate (15+)  Vacancies  Population  \\\n",
       "337                 4.978780                 62.766252    75246.3     6735528   \n",
       "340                 5.288439                 63.154613    81637.1     6742690   \n",
       "343                 5.200780                 63.356167    76411.3     6766133   \n",
       "346                 4.811675                 63.577304    80972.6     6786160   \n",
       "349                 4.957025                 62.909350    88785.0     6815359   \n",
       "\n",
       "     VacancyRate  \n",
       "337     1.117155  \n",
       "340     1.210750  \n",
       "343     1.129320  \n",
       "346     1.193202  \n",
       "349     1.302719  "
      ]
     },
     "execution_count": 376,
     "metadata": {},
     "output_type": "execute_result"
    }
   ],
   "source": [
    "vacancy_rates = []\n",
    "keys = merged_table.loc[:, [\"Vacancies\", \"Population\"]].values\n",
    "for vacancy, pop in keys:\n",
    "    vacancy_rates.append(vacancy*100.0/pop)\n",
    "merged_table[\"VacancyRate\"] = vacancy_rates\n",
    "merged_table.head()"
   ]
  },
  {
   "cell_type": "code",
   "execution_count": 377,
   "metadata": {},
   "outputs": [
    {
     "data": {
      "image/png": "[encoded data removed]",
      "text/plain": [
       "<matplotlib.figure.Figure at 0xd70a198>"
      ]
     },
     "metadata": {},
     "output_type": "display_data"
    }
   ],
   "source": [
    "vacancy_rate_value = list(merged_table[\"VacancyRate\"])\n",
    "x_values = range(1, len(vacancy_rate_value)+1)\n",
    "plt.plot(x_values, list(merged_table[\"Unemployment Rate (15+)\"]))\n",
    "plt.plot(x_values,vacancy_rate_value)\n",
    "plt.show()"
   ]
  },
  {
   "cell_type": "markdown",
   "metadata": {},
   "source": [
    "**answer**\n",
    "1. the first date is 2006-03-01, the last date is 2015-06-01\n",
    "2. No\n",
    "3. Yes, contrary\n",
    "4. Yes"
   ]
  },
  {
   "cell_type": "markdown",
   "metadata": {},
   "source": [
    "## A5. Visualizing the Relationship over Time"
   ]
  },
  {
   "cell_type": "code",
   "execution_count": 381,
   "metadata": {},
   "outputs": [
    {
     "data": {
      "text/html": [
       "<div>\n",
       "<style>\n",
       "    .dataframe thead tr:only-child th {\n",
       "        text-align: right;\n",
       "    }\n",
       "\n",
       "    .dataframe thead th {\n",
       "        text-align: left;\n",
       "    }\n",
       "\n",
       "    .dataframe tbody tr th {\n",
       "        vertical-align: top;\n",
       "    }\n",
       "</style>\n",
       "<table border=\"1\" class=\"dataframe\">\n",
       "  <thead>\n",
       "    <tr style=\"text-align: right;\">\n",
       "      <th></th>\n",
       "      <th>State/Territory</th>\n",
       "      <th>Date</th>\n",
       "      <th>Employment Rate (15-64)</th>\n",
       "      <th>Unemployment Rate (15+)</th>\n",
       "      <th>Participation Rate (15+)</th>\n",
       "      <th>Vacancies</th>\n",
       "      <th>Population</th>\n",
       "      <th>VacancyRate</th>\n",
       "    </tr>\n",
       "  </thead>\n",
       "  <tbody>\n",
       "    <tr>\n",
       "      <th>337</th>\n",
       "      <td>NSW</td>\n",
       "      <td>2006-03-01</td>\n",
       "      <td>70.0879</td>\n",
       "      <td>4.978780</td>\n",
       "      <td>62.766252</td>\n",
       "      <td>75246.3</td>\n",
       "      <td>6735528</td>\n",
       "      <td>1.117155</td>\n",
       "    </tr>\n",
       "    <tr>\n",
       "      <th>340</th>\n",
       "      <td>NSW</td>\n",
       "      <td>2006-06-01</td>\n",
       "      <td>70.374</td>\n",
       "      <td>5.288439</td>\n",
       "      <td>63.154613</td>\n",
       "      <td>81637.1</td>\n",
       "      <td>6742690</td>\n",
       "      <td>1.210750</td>\n",
       "    </tr>\n",
       "    <tr>\n",
       "      <th>343</th>\n",
       "      <td>NSW</td>\n",
       "      <td>2006-09-01</td>\n",
       "      <td>70.6042</td>\n",
       "      <td>5.200780</td>\n",
       "      <td>63.356167</td>\n",
       "      <td>76411.3</td>\n",
       "      <td>6766133</td>\n",
       "      <td>1.129320</td>\n",
       "    </tr>\n",
       "    <tr>\n",
       "      <th>346</th>\n",
       "      <td>NSW</td>\n",
       "      <td>2006-12-01</td>\n",
       "      <td>71.0609</td>\n",
       "      <td>4.811675</td>\n",
       "      <td>63.577304</td>\n",
       "      <td>80972.6</td>\n",
       "      <td>6786160</td>\n",
       "      <td>1.193202</td>\n",
       "    </tr>\n",
       "    <tr>\n",
       "      <th>349</th>\n",
       "      <td>NSW</td>\n",
       "      <td>2007-03-01</td>\n",
       "      <td>70.2686</td>\n",
       "      <td>4.957025</td>\n",
       "      <td>62.909350</td>\n",
       "      <td>88785.0</td>\n",
       "      <td>6815359</td>\n",
       "      <td>1.302719</td>\n",
       "    </tr>\n",
       "  </tbody>\n",
       "</table>\n",
       "</div>"
      ],
      "text/plain": [
       "    State/Territory       Date Employment Rate (15-64)  \\\n",
       "337             NSW 2006-03-01                 70.0879   \n",
       "340             NSW 2006-06-01                  70.374   \n",
       "343             NSW 2006-09-01                 70.6042   \n",
       "346             NSW 2006-12-01                 71.0609   \n",
       "349             NSW 2007-03-01                 70.2686   \n",
       "\n",
       "     Unemployment Rate (15+)  Participation Rate (15+)  Vacancies  Population  \\\n",
       "337                 4.978780                 62.766252    75246.3     6735528   \n",
       "340                 5.288439                 63.154613    81637.1     6742690   \n",
       "343                 5.200780                 63.356167    76411.3     6766133   \n",
       "346                 4.811675                 63.577304    80972.6     6786160   \n",
       "349                 4.957025                 62.909350    88785.0     6815359   \n",
       "\n",
       "     VacancyRate  \n",
       "337     1.117155  \n",
       "340     1.210750  \n",
       "343     1.129320  \n",
       "346     1.193202  \n",
       "349     1.302719  "
      ]
     },
     "execution_count": 381,
     "metadata": {},
     "output_type": "execute_result"
    }
   ],
   "source": [
    "merged_table.head()"
   ]
  },
  {
   "cell_type": "code",
   "execution_count": 379,
   "metadata": {},
   "outputs": [
    {
     "data": {
      "text/html": [
       "<style>\n",
       ".output_wrapper, .output {\n",
       "    height:auto !important;\n",
       "    max-height:1000px;  /* your desired max-height here */\n",
       "}\n",
       ".output_scroll {\n",
       "    box-shadow:none !important;\n",
       "    webkit-box-shadow:none !important;\n",
       "}\n",
       "</style>"
      ],
      "text/plain": [
       "<IPython.core.display.HTML object>"
      ]
     },
     "metadata": {},
     "output_type": "display_data"
    }
   ],
   "source": [
    "%%html\n",
    "<style>\n",
    ".output_wrapper, .output {\n",
    "    height:auto !important;\n",
    "    max-height:1000px;  /* your desired max-height here */\n",
    "}\n",
    ".output_scroll {\n",
    "    box-shadow:none !important;\n",
    "    webkit-box-shadow:none !important;\n",
    "}\n",
    "</style>"
   ]
  },
  {
   "cell_type": "code",
   "execution_count": 404,
   "metadata": {
    "scrolled": true
   },
   "outputs": [
    {
     "data": {
      "text/html": [
       "\n",
       "        <iframe\n",
       "            width=\"900\"\n",
       "            height=\"700\"\n",
       "            src=\"mc_temp.html\"\n",
       "            frameborder=\"0\"\n",
       "            allowfullscreen\n",
       "        ></iframe>\n",
       "        "
      ],
      "text/plain": [
       "<IPython.lib.display.IFrame at 0xd7c85f8>"
      ]
     },
     "metadata": {},
     "output_type": "display_data"
    }
   ],
   "source": [
    "# now generate the motionchart and show it in the notebook\n",
    "new_dates = []\n",
    "for date in list(merged_table[\"Date\"]):\n",
    "    new_dates.append(date.strftime(\"%Y-%m-%d\"))\n",
    "merged_table[\"Date\"] = new_dates\n",
    "mChart = MotionChart(df = merged_table, x='VacancyRate', y='Unemployment Rate (15+)', xscale='linear', yscale='linear',\n",
    "                     size='Population',key=\"Date\",  color='State/Territory')\n",
    "mChart.to_notebook()"
   ]
  },
  {
   "cell_type": "markdown",
   "metadata": {},
   "source": [
    "**Answer**\n",
    "2. WA\n",
    "3. Getting worse;the Australian economy was better in 2006/7, because in 2006/7 the bubbles all towards the right botton cornor, which means more employment; while in 2014/5 the bubbles are all towards the left top cornor, which means more unemployment.\n",
    "4. Lower unemployment rate and hight vacancy rate; Because it has less population; No,It won't\n",
    "5. All the states's unemployment rate suddenly grow high, and vacancy rate decrease; Because inancial crisis happened;\n",
    "6. Compared to other states, TAC has higher unemployment and lower vacancy rate"
   ]
  }
 ],
 "metadata": {
  "kernelspec": {
   "display_name": "Python 3",
   "language": "python",
   "name": "python3"
  },
  "language_info": {
   "codemirror_mode": {
    "name": "ipython",
    "version": 3
   },
   "file_extension": ".py",
   "mimetype": "text/x-python",
   "name": "python",
   "nbconvert_exporter": "python",
   "pygments_lexer": "ipython3",
   "version": "3.6.2"
  }
 },
 "nbformat": 4,
 "nbformat_minor": 2
}
